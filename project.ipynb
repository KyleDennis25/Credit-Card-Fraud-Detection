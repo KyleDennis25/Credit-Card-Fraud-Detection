{
 "cells": [
  {
   "attachments": {},
   "cell_type": "markdown",
   "metadata": {},
   "source": [
    "### Imports"
   ]
  },
  {
   "cell_type": "code",
   "execution_count": 42,
   "metadata": {},
   "outputs": [],
   "source": [
    "import numpy as np\n",
    "import pandas as pd\n",
    "from imblearn.over_sampling import SMOTE"
   ]
  },
  {
   "cell_type": "markdown",
   "metadata": {},
   "source": [
    "### Data Import and Cleaning"
   ]
  },
  {
   "cell_type": "code",
   "execution_count": 43,
   "metadata": {},
   "outputs": [
    {
     "name": "stdout",
     "output_type": "stream",
     "text": [
      "False\n",
      "^ No nulls\n",
      "There are 492 fraudulent transactions- about 0.1727 percent of the dataset.\n"
     ]
    }
   ],
   "source": [
    "# read in data\n",
    "data = pd.read_csv('dataset.csv')\n",
    "\n",
    "# check is for nulls\n",
    "print(data.isnull().values.any())\n",
    "print('^ No nulls')\n",
    "\n",
    "# obtain X and y\n",
    "X = data[[\"Time\", \"Amount\", \"V1\", \"V2\"]]\n",
    "y = data['Class']\n",
    "\n",
    "# find fraud proportion\n",
    "# fraudCount = len(data[data['Class'] == 1])\n",
    "fraudCount = (y == 1).sum()\n",
    "fraudPercentage = (fraudCount/len(X))*100 \n",
    "fraudPercentageRounded = round(fraudPercentage, 4)\n",
    "\n",
    "# print fraud distribution\n",
    "print('There are ' + str(fraudCount) + ' fraudulent transactions- about ' + str(fraudPercentageRounded) + ' percent of the dataset.')"
   ]
  },
  {
   "attachments": {},
   "cell_type": "markdown",
   "metadata": {},
   "source": [
    "### Apply SMOTE sampling"
   ]
  },
  {
   "cell_type": "code",
   "execution_count": 46,
   "metadata": {},
   "outputs": [
    {
     "name": "stdout",
     "output_type": "stream",
     "text": [
      "There are 85294 fraudulent transactions- about 23.0768 percent of the dataset.\n"
     ]
    }
   ],
   "source": [
    "# apply SMOTE- have new minority class be 30 percent of the dataset\n",
    "smote = SMOTE(random_state=16, sampling_strategy=0.3)\n",
    "X_sampled, y_sampled = smote.fit_resample(X, y)\n",
    "\n",
    "# find new fraud proportion\n",
    "fraudCountNew = (y_sampled == 1).sum()\n",
    "fraudPercentageNew = (fraudCountNew/len(X_sampled))*100 \n",
    "fraudPercentageRoundedNew = round(fraudPercentageNew, 4)\n",
    "\n",
    "# print new fraud distribution\n",
    "print('There are ' + str(fraudCountNew) + ' fraudulent transactions- about ' + str(fraudPercentageRoundedNew) + ' percent of the dataset.')"
   ]
  }
 ],
 "metadata": {
  "kernelspec": {
   "display_name": "base",
   "language": "python",
   "name": "python3"
  },
  "language_info": {
   "codemirror_mode": {
    "name": "ipython",
    "version": 3
   },
   "file_extension": ".py",
   "mimetype": "text/x-python",
   "name": "python",
   "nbconvert_exporter": "python",
   "pygments_lexer": "ipython3",
   "version": "3.10.9"
  },
  "orig_nbformat": 4,
  "vscode": {
   "interpreter": {
    "hash": "4db5150d9307c9db32b72c66369bb63432993cbb0a7e65d16b4aeb4fba66c21e"
   }
  }
 },
 "nbformat": 4,
 "nbformat_minor": 2
}
