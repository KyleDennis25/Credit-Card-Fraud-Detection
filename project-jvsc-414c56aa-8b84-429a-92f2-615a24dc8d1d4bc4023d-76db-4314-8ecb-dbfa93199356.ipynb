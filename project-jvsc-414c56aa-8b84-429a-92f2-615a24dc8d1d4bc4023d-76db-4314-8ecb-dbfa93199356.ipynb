{
 "cells": [
  {
   "cell_type": "code",
   "execution_count": null,
   "metadata": {},
   "outputs": [],
   "source": []
  }
 ],
 "metadata": {
  "kernelspec": {
   "display_name": "ds385",
   "language": "python",
   "name": "python3"
  },
  "language_info": {
   "name": "python",
   "version": "3.12.4 | packaged by Anaconda, Inc. | (main, Jun 18 2024, 10:14:12) [Clang 14.0.6 ]"
  },
  "vscode": {
   "interpreter": {
    "hash": "e6eb6178224bd9e53f60d2d51f701ad3b00c913d0670cd2bcae23b7788028ba5"
   }
  }
 },
 "nbformat": 4,
 "nbformat_minor": 5
}
